{
 "cells": [
  {
   "cell_type": "code",
   "execution_count": 4,
   "id": "373f3186",
   "metadata": {},
   "outputs": [
    {
     "name": "stdout",
     "output_type": "stream",
     "text": [
      "Hi, Akkadate siripongwattana\n",
      "Hi, Akkadate siripongwattana\n",
      "Hi, Akkadate siripongwattana\n"
     ]
    }
   ],
   "source": [
    "# print string\n",
    "\n",
    "name = \"Akkadate siripongwattana\"\n",
    "print(\"Hi,\", name)\n",
    "print(\"Hi, %s\" %format(name))\n",
    "print(\"Hi, %s\" %name)"
   ]
  },
  {
   "cell_type": "code",
   "execution_count": 16,
   "id": "ede66f5d",
   "metadata": {},
   "outputs": [
    {
     "name": "stdout",
     "output_type": "stream",
     "text": [
      "Hi akkadate a = 2\n",
      "Hi akkadate a = 2 b = 5.678\n"
     ]
    }
   ],
   "source": [
    "# print number\n",
    "\n",
    "a=2\n",
    "b=5.678\n",
    "name=\"akkadate\"\n",
    "print(\"Hi\", name, \"a =\" , a)\n",
    "print(\"Hi\", name, \"a =\" , a, 'b =',b)"
   ]
  },
  {
   "cell_type": "code",
   "execution_count": 18,
   "id": "437735b0",
   "metadata": {},
   "outputs": [
    {
     "name": "stdout",
     "output_type": "stream",
     "text": [
      "Hi, akkadate a = 2\n",
      "Hi, akkadate b = 5.68\n",
      "Hi, akkadate a = 2 b = 5.68\n",
      "Hi, akkadate b =   5.68\n"
     ]
    }
   ],
   "source": [
    "# %d แทน integer และ %f แทนทศนิยม\n",
    "\n",
    "print(\"Hi, %s a = %d\" %(name,a))\n",
    "print(\"Hi, %s b = %.2f\" %(name,b))\n",
    "print(\"Hi, %s a = %d b = %.2f\" %(name,a,b))\n",
    "print(\"Hi, %s b = %6.2f\" %(name,b))"
   ]
  },
  {
   "cell_type": "code",
   "execution_count": 24,
   "id": "b5a768e1",
   "metadata": {},
   "outputs": [
    {
     "name": "stdout",
     "output_type": "stream",
     "text": [
      "Hi, akkadate Pi = 3.142\n",
      "Hi, akkadate Pi =  3.142\n",
      "Hi, akkadate Pi = 3.142\n"
     ]
    }
   ],
   "source": [
    "# lib about Match\n",
    "\n",
    "import math\n",
    "print(\"Hi, %s Pi = %.3f\" %(name,math.pi))\n",
    "print(\"Hi, %s Pi = %6.3f\" %(name,math.pi))\n",
    "print(\"Hi, %s Pi = %.3f\" %(name,math.pi))"
   ]
  },
  {
   "cell_type": "code",
   "execution_count": 29,
   "id": "b7aea3bd",
   "metadata": {},
   "outputs": [
    {
     "name": "stdout",
     "output_type": "stream",
     "text": [
      "a = 2\n",
      "Hi akkadate 5.7\n"
     ]
    }
   ],
   "source": [
    "print('a = {}' .format(a))\n",
    "print('Hi {} {:.1f}' .format(name,b))"
   ]
  },
  {
   "cell_type": "markdown",
   "id": "00f760a1",
   "metadata": {},
   "source": [
    "### function"
   ]
  },
  {
   "cell_type": "code",
   "execution_count": 34,
   "id": "4dea57c4",
   "metadata": {},
   "outputs": [
    {
     "name": "stdout",
     "output_type": "stream",
     "text": [
      "Area = 16\n",
      "Area = 16\n"
     ]
    }
   ],
   "source": [
    "def area(lenght):\n",
    "    area = lenght * lenght\n",
    "    return area\n",
    "\n",
    "b = area(4)\n",
    "print('Area = %d' %(b))\n",
    "print('Area =',b)"
   ]
  },
  {
   "cell_type": "code",
   "execution_count": 37,
   "id": "58756dab",
   "metadata": {},
   "outputs": [
    {
     "name": "stdout",
     "output_type": "stream",
     "text": [
      "Area = 16\n",
      "Area = 16\n"
     ]
    }
   ],
   "source": [
    "def area(lenght):\n",
    "    area = lenght * lenght\n",
    "    return area\n",
    "\n",
    "if __name__ =='__main__':                # หรือ \"__main__\":\n",
    "    b = area(4)\n",
    "    print('Area = %d' %(b))\n",
    "    print('Area =',b)"
   ]
  },
  {
   "cell_type": "code",
   "execution_count": null,
   "id": "2de1e8b3",
   "metadata": {},
   "outputs": [],
   "source": []
  }
 ],
 "metadata": {
  "kernelspec": {
   "display_name": "Python 3 (ipykernel)",
   "language": "python",
   "name": "python3"
  },
  "language_info": {
   "codemirror_mode": {
    "name": "ipython",
    "version": 3
   },
   "file_extension": ".py",
   "mimetype": "text/x-python",
   "name": "python",
   "nbconvert_exporter": "python",
   "pygments_lexer": "ipython3",
   "version": "3.9.12"
  }
 },
 "nbformat": 4,
 "nbformat_minor": 5
}
