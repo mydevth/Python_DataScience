{
 "cells": [
  {
   "cell_type": "markdown",
   "id": "9a057499-4577-4dc8-a2c9-58d5fff263d2",
   "metadata": {},
   "source": [
    "a=5\n",
    "b=3\n",
    "c=8\n",
    "a > b and a > c\n",
    "a > b or a > c"
   ]
  },
  {
   "cell_type": "code",
   "execution_count": 2,
   "id": "55351f25-86d6-4ac0-91fc-4d466eaa0170",
   "metadata": {},
   "outputs": [
    {
     "name": "stdout",
     "output_type": "stream",
     "text": [
      "Discount 2%\n"
     ]
    }
   ],
   "source": [
    "price = 10\n",
    "if price >=100:\n",
    "    print('Discont 5%')\n",
    "else:\n",
    "    print('Discount 2%')"
   ]
  },
  {
   "cell_type": "code",
   "execution_count": 5,
   "id": "33139675-8cd3-4923-9372-edeba9020a80",
   "metadata": {},
   "outputs": [
    {
     "name": "stdout",
     "output_type": "stream",
     "text": [
      "Turn on Big Fan\n"
     ]
    }
   ],
   "source": [
    "temp = 50\n",
    "if temp < 30 :\n",
    "    print(\"Fan off\")\n",
    "elif temp >=30 and temp < 40:\n",
    "    print(\"Small Fan\")\n",
    "else:\n",
    "    print(\"Turn on Big Fan\")"
   ]
  },
  {
   "cell_type": "code",
   "execution_count": 10,
   "id": "babd6d2e-4337-43c6-82a4-d7f743c97d68",
   "metadata": {},
   "outputs": [
    {
     "name": "stdout",
     "output_type": "stream",
     "text": [
      "On Fan\n",
      "done\n"
     ]
    }
   ],
   "source": [
    "#indent\n",
    "temp = 40\n",
    "if temp >= 40:\n",
    "    print(\"On Fan\")\n",
    "    a = 2\n",
    "print(\"done\")"
   ]
  },
  {
   "cell_type": "code",
   "execution_count": 15,
   "id": "9da584e9-e968-4da5-a506-7b4ea100c95c",
   "metadata": {},
   "outputs": [
    {
     "name": "stdout",
     "output_type": "stream",
     "text": [
      " 111111111111 111111111111111111111 \n"
     ]
    }
   ],
   "source": [
    "print(\" 111111111111 \\\n",
    "111111111111111111111 \")\n"
   ]
  },
  {
   "cell_type": "markdown",
   "id": "869769e9-8129-4412-b1e5-59e77c3e668c",
   "metadata": {},
   "source": [
    "### การวนรอบ"
   ]
  },
  {
   "cell_type": "code",
   "execution_count": 29,
   "id": "e2488a8f-6156-49dd-8432-6a3f54e4c8d2",
   "metadata": {},
   "outputs": [
    {
     "name": "stdout",
     "output_type": "stream",
     "text": [
      "test for\n",
      "0\n",
      "test for\n",
      "1\n",
      "test for\n",
      "2\n",
      "done\n"
     ]
    }
   ],
   "source": [
    "# for\n",
    "\n",
    "for count in range(3):\n",
    "    print(\"test for\")\n",
    "    print(count)\n",
    "print(\"done\")"
   ]
  },
  {
   "cell_type": "code",
   "execution_count": 23,
   "id": "49c9c871-7497-4821-8b28-f3d4f8dc819a",
   "metadata": {},
   "outputs": [
    {
     "name": "stdout",
     "output_type": "stream",
     "text": [
      "4\n",
      "5\n",
      "end of program ja\n"
     ]
    }
   ],
   "source": [
    "for v in range(4,6):\n",
    "    print(v)\n",
    "print(\"end of program ja\")"
   ]
  },
  {
   "cell_type": "code",
   "execution_count": 30,
   "id": "7d5cabcb-685c-47fe-b47b-d1e6fbc7a543",
   "metadata": {},
   "outputs": [
    {
     "name": "stdout",
     "output_type": "stream",
     "text": [
      "Halo ja!\n",
      "Halo ja!\n",
      "Halo ja!\n"
     ]
    }
   ],
   "source": [
    "# while\n",
    "\n",
    "count = 0 \n",
    "while count < 3 :\n",
    "    print(\"Halo ja!\")\n",
    "    count = count+1"
   ]
  },
  {
   "cell_type": "code",
   "execution_count": null,
   "id": "ca96adc8-8209-49bc-8617-494280841c15",
   "metadata": {},
   "outputs": [
    {
     "name": "stdout",
     "output_type": "stream",
     "text": [
      "Hello\n",
     
     ]
    }
   ],
   {
  "metadata": {
  "kernelspec": {
   "display_name": "Python 3 (ipykernel)",
   "language": "python",
   "name": "python3"
  },
  "language_info": {
   "codemirror_mode": {
    "name": "ipython",
    "version": 3
   },
   "file_extension": ".py",
   "mimetype": "text/x-python",
   "name": "python",
   "nbconvert_exporter": "python",
   "pygments_lexer": "ipython3",
   "version": "3.10.4"
  }
 },
 "nbformat": 4,
 "nbformat_minor": 5
}
