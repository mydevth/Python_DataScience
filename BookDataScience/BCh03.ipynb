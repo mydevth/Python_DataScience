{
 "cells": [
  {
   "cell_type": "code",
   "execution_count": 9,
   "id": "13c0fc95-220a-40a5-81c5-54f90abf82bd",
   "metadata": {},
   "outputs": [
    {
     "name": "stdout",
     "output_type": "stream",
     "text": [
      "False\n",
      "True\n",
      "True\n",
      "True\n"
     ]
    }
   ],
   "source": [
    "a = 5\n",
    "b = 3\n",
    "c = 8\n",
    "print(a > b and a > c)\n",
    "print(a > b or a > c)\n",
    "print(a > b) or ( a > c)\n",
    "x = (a > b) or ( a > c)\n",
    "print(x)"
   ]
  },
  {
   "cell_type": "code",
   "execution_count": 10,
   "id": "87ead55a-6f0f-4f68-8844-2b5662185a7f",
   "metadata": {},
   "outputs": [
    {
     "name": "stdout",
     "output_type": "stream",
     "text": [
      "Discount5%\n",
      "done\n"
     ]
    }
   ],
   "source": [
    "price = 110\n",
    "if price >=100:\n",
    "    print('Discount5%')\n",
    "print('done')"
   ]
  },
  {
   "cell_type": "code",
   "execution_count": 11,
   "id": "c1664a34-352e-46c6-b5bc-e18ce705d765",
   "metadata": {},
   "outputs": [
    {
     "name": "stdout",
     "output_type": "stream",
     "text": [
      "Discount 2%\n",
      "Bye\n"
     ]
    }
   ],
   "source": [
    "price = 90\n",
    "if price >=100:\n",
    "    print('Discount 5%')\n",
    "else:\n",
    "    print('Discount 2%')\n",
    "print('Bye')\n"
   ]
  },
  {
   "cell_type": "code",
   "execution_count": 17,
   "id": "00bb5f89-15ee-4e97-913d-547c2c1897d3",
   "metadata": {},
   "outputs": [
    {
     "name": "stdout",
     "output_type": "stream",
     "text": [
      "Small Fan\n"
     ]
    }
   ],
   "source": [
    "temp = 32\n",
    "if temp < 30:\n",
    "    print(\"Fan off\")\n",
    "elif temp >=30 and temp <40:\n",
    "    print(\"Small Fan\")\n",
    "else:\n",
    "    print(\"Turn on a big Fan\")\n",
    "\n"
   ]
  },
  {
   "cell_type": "code",
   "execution_count": 38,
   "id": "15c11af1-28a4-4aff-b977-6401d036f350",
   "metadata": {},
   "outputs": [
    {
     "name": "stdout",
     "output_type": "stream",
     "text": [
      "Turn on a Big Fan      Location building 1 floor 1\n",
      "done\n"
     ]
    }
   ],
   "source": [
    "temp = 40\n",
    "if temp >=40:\n",
    "    print(\"Turn on a Big Fan \\\n",
    "     Location building 1 floor 1\")\n",
    "print(\"done\")"
   ]
  },
  {
   "cell_type": "code",
   "execution_count": 42,
   "id": "a1f6c9a0-d9a9-4e39-a0f2-9b6f566c90ea",
   "metadata": {},
   "outputs": [
    {
     "name": "stdout",
     "output_type": "stream",
     "text": [
      "Test for loop\n",
      "0\n",
      "Test for loop\n",
      "1\n",
      "Test for loop\n",
      "2\n",
      "Done\n"
     ]
    }
   ],
   "source": [
    "# for\n",
    "for count in range(3):\n",
    "    print(\"Test for loop\")\n",
    "    print(count)\n",
    "print(\"Done\")"
   ]
  },
  {
   "cell_type": "code",
   "execution_count": 43,
   "id": "029b8faf-dbba-4f67-b1b5-8f7b57715ee9",
   "metadata": {},
   "outputs": [
    {
     "name": "stdout",
     "output_type": "stream",
     "text": [
      "4\n",
      "5\n",
      "End of for loop\n"
     ]
    }
   ],
   "source": [
    "for v in range(4,6):\n",
    "    print(v)\n",
    "print(\"End of for loop\")\n",
    "    "
   ]
  },
  {
   "cell_type": "code",
   "execution_count": 53,
   "id": "40c8f3b8-3b60-490b-a3a4-17782012bfec",
   "metadata": {},
   "outputs": [
    {
     "name": "stdout",
     "output_type": "stream",
     "text": [
      "Hello kob\n",
      "Hello kob\n",
      "Hello kob\n"
     ]
    }
   ],
   "source": [
    "# while \n",
    "count = 0\n",
    "while count < 3:\n",
    "    print(\"Hello kob\")\n",
    "    count += 1"
   ]
  },
  {
   "cell_type": "code",
   "execution_count": 59,
   "id": "8dae77dc-d455-43b7-92da-c49d46ddfda3",
   "metadata": {},
   "outputs": [
    {
     "name": "stdout",
     "output_type": "stream",
     "text": [
      "1\n",
      "3\n",
      "7\n"
     ]
    }
   ],
   "source": [
    "# comment\n",
    "print(\"1\")\n",
    "#print(\"2\")\n",
    "print(\"3\")\n",
    "''' \n",
    "print(\"4\")\n",
    "print(\"5\")\n",
    "print(\"6\")\n",
    "'''\n",
    "print(\"7\") \n"
   ]
  },
  {
   "cell_type": "code",
   "execution_count": 67,
   "id": "a06ea907-d94c-4a0e-8283-83925f426db9",
   "metadata": {},
   "outputs": [
    {
     "name": "stdout",
     "output_type": "stream",
     "text": [
      "Hi akkadate\n",
      "Hi akkadate\n",
      "Hi akkadate\n"
     ]
    }
   ],
   "source": [
    "name =\"akkadate\"\n",
    "print(\"Hi\",name)\n",
    "print(\"Hi %s\"%format(name))\n",
    "print(\"Hi %s\" %name)"
   ]
  },
  {
   "cell_type": "code",
   "execution_count": 79,
   "id": "6b5f0160-9f86-4aef-beeb-8b5d8f29f0e5",
   "metadata": {},
   "outputs": [
    {
     "name": "stdout",
     "output_type": "stream",
     "text": [
      "Hi akkadate a= 2 b= 5.678\n",
      "Hi akkadate a=2 b=5.68\n",
      "b=  5.68\n"
     ]
    }
   ],
   "source": [
    "a = 2\n",
    "b = 5.678\n",
    "name = \"akkadate\"\n",
    "print(\"Hi\",name,\"a=\",a,\"b=\",b)\n",
    "print(\"Hi %s a=%d b=%.2f\" %(name,a,b))\n",
    "print(\"b=%6.2f\" %b)"
   ]
  },
  {
   "cell_type": "code",
   "execution_count": 85,
   "id": "d22b227c-8f27-4d6d-aedb-9e8f40c37765",
   "metadata": {},
   "outputs": [
    {
     "name": "stdout",
     "output_type": "stream",
     "text": [
      "Pi=3.142\n",
      "Pi= 3.142\n"
     ]
    }
   ],
   "source": [
    "import math\n",
    "print(\"Pi=%.3f\" %math.pi)\n",
    "print(\"Pi=%6.3f\" %math.pi)"
   ]
  },
  {
   "cell_type": "code",
   "execution_count": 86,
   "id": "6c9c550f-11fd-464f-bcbf-a10d5ec67fbc",
   "metadata": {},
   "outputs": [
    {
     "name": "stdout",
     "output_type": "stream",
     "text": [
      "a=2\n"
     ]
    }
   ],
   "source": [
    "print('a={}'.format(a))"
   ]
  },
  {
   "cell_type": "code",
   "execution_count": 87,
   "id": "f54f3d8c-1f62-440f-969e-7b226c308db2",
   "metadata": {},
   "outputs": [
    {
     "name": "stdout",
     "output_type": "stream",
     "text": [
      "Hi akkadate 5.7\n"
     ]
    }
   ],
   "source": [
    "print('Hi {} {:.1f}' .format(name,b))"
   ]
  },
  {
   "cell_type": "code",
   "execution_count": 94,
   "id": "d66a7a90-92e6-42f4-bd36-81767c3b92ca",
   "metadata": {},
   "outputs": [
    {
     "name": "stdout",
     "output_type": "stream",
     "text": [
      "Area = 4\n",
      "Area = 4\n"
     ]
    }
   ],
   "source": [
    "# Function\n",
    "def area(length):\n",
    "    area = length*length\n",
    "    return area\n",
    "\n",
    "# main program\n",
    "b = area(2)\n",
    "print(\"Area = %d\" %b)\n",
    "print(\"Area =\",b)"
   ]
  },
  {
   "cell_type": "code",
   "execution_count": 100,
   "id": "c40adacd-b73c-4cf3-b1d0-1035a5f232de",
   "metadata": {},
   "outputs": [
    {
     "name": "stdout",
     "output_type": "stream",
     "text": [
      "Area = 4\n",
      "Area = 4\n"
     ]
    }
   ],
   "source": [
    "# Function\n",
    "def area(length):\n",
    "    area = length*length\n",
    "    return area\n",
    "\n",
    "# main program\n",
    "if __name__ == \"__main__\":\n",
    "    b = area(2)\n",
    "    print(\"Area = %d\" %b)\n",
    "    print(\"Area =\",b)"
   ]
  },
  {
   "cell_type": "code",
   "execution_count": 101,
   "id": "c0525f8e-e7f8-4d75-8cc5-3bf0e6a5b4b1",
   "metadata": {},
   "outputs": [
    {
     "name": "stdout",
     "output_type": "stream",
     "text": [
      "Area = 4\n",
      "Area = 4\n"
     ]
    }
   ],
   "source": [
    "# Function\n",
    "def area(length):\n",
    "    area = length*length\n",
    "    return area\n",
    "\n",
    "# main program\n",
    "if '__main__':\n",
    "    b = area(2)\n",
    "    print(\"Area = %d\" %b)\n",
    "    print(\"Area =\",b)"
   ]
  },
  {
   "cell_type": "code",
   "execution_count": null,
   "id": "da92cc8a-3ea4-447a-976c-13759c3b3f06",
   "metadata": {},
   "outputs": [],
   "source": []
  }
 ],
 "metadata": {
  "kernelspec": {
   "display_name": "Python 3 (ipykernel)",
   "language": "python",
   "name": "python3"
  },
  "language_info": {
   "codemirror_mode": {
    "name": "ipython",
    "version": 3
   },
   "file_extension": ".py",
   "mimetype": "text/x-python",
   "name": "python",
   "nbconvert_exporter": "python",
   "pygments_lexer": "ipython3",
   "version": "3.10.4"
  }
 },
 "nbformat": 4,
 "nbformat_minor": 5
}
