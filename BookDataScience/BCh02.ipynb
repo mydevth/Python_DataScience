{
 "cells": [
  {
   "cell_type": "code",
   "execution_count": 3,
   "id": "16236bcb-c2e5-4fc8-b1dd-5592998ef82f",
   "metadata": {},
   "outputs": [
    {
     "name": "stdout",
     "output_type": "stream",
     "text": [
      "48\n"
     ]
    }
   ],
   "source": [
    "a = 12\n",
    "b = a*4\n",
    "print(b)"
   ]
  },
  {
   "cell_type": "code",
   "execution_count": 6,
   "id": "c2f1c0a0-0699-4a59-806b-edd703949aa6",
   "metadata": {},
   "outputs": [
    {
     "name": "stdout",
     "output_type": "stream",
     "text": [
      "akkadate 512\n"
     ]
    }
   ],
   "source": [
    "name='akkadate'\n",
    "print(name,b)"
   ]
  },
  {
   "cell_type": "code",
   "execution_count": 5,
   "id": "ae6680e1-dafb-4cc4-a962-55246c32f89a",
   "metadata": {},
   "outputs": [],
   "source": [
    "b = 512"
   ]
  },
  {
   "cell_type": "code",
   "execution_count": 36,
   "id": "cb93d425-9035-42d4-8ee4-bb89bdacd0a7",
   "metadata": {},
   "outputs": [
    {
     "name": "stdout",
     "output_type": "stream",
     "text": [
      "Object `plt.bar` not found.\n"
     ]
    }
   ],
   "source": [
    "plt.bar?"
   ]
  },
  {
   "cell_type": "code",
   "execution_count": 9,
   "id": "96c3f753-2008-4834-bc25-1e74a111bcf1",
   "metadata": {},
   "outputs": [],
   "source": [
    "import matplotlib_inline as mp"
   ]
  },
  {
   "cell_type": "code",
   "execution_count": 18,
   "id": "740cc907-4851-4353-94b1-4e2e846e00ec",
   "metadata": {},
   "outputs": [
    {
     "name": "stdout",
     "output_type": "stream",
     "text": [
      "IPthon version  8.3.0 (need at lease 1.0)\n"
     ]
    }
   ],
   "source": [
    "import IPython\n",
    "print(\"IPthon version %6.6s (need at lease 1.0)\" % IPython.__version__)"
   ]
  },
  {
   "cell_type": "code",
   "execution_count": 16,
   "id": "3697db85-ef24-4920-babb-0f3bdaa8170d",
   "metadata": {},
   "outputs": [
    {
     "name": "stdout",
     "output_type": "stream",
     "text": [
      " JupyterLab version  3.4.2 (need at lease 0.35.x)\n"
     ]
    }
   ],
   "source": [
    "import jupyterlab\n",
    "print(\" JupyterLab version %6.6s (need at lease 0.35.x)\" % jupyterlab.__version__)"
   ]
  },
  {
   "cell_type": "code",
   "execution_count": 26,
   "id": "77aab072-6f40-438e-8840-c3d04337688c",
   "metadata": {},
   "outputs": [
    {
     "name": "stdout",
     "output_type": "stream",
     "text": [
      " Numpy version 1.22.4 (need at lease 1.7.1)\n"
     ]
    }
   ],
   "source": [
    "#py -m pip install numpy\n",
    "import numpy as np\n",
    "print(\" Numpy version %6.6s (need at lease 1.7.1)\" % np.__version__)"
   ]
  },
  {
   "cell_type": "code",
   "execution_count": 29,
   "id": "8e0dee79-5216-4e17-855c-3bc86589e85b",
   "metadata": {},
   "outputs": [
    {
     "name": "stdout",
     "output_type": "stream",
     "text": [
      " xlrd version  2.0.1 (need at lease 1.0.0)\n"
     ]
    }
   ],
   "source": [
    "#py -m pip install xlrd\n",
    "import xlrd\n",
    "print(\" xlrd version %6.6s (need at lease 1.0.0)\" % xlrd.__version__)"
   ]
  },
  {
   "cell_type": "code",
   "execution_count": 32,
   "id": "78d9a37d-ce07-40ed-8717-d24aa93776b2",
   "metadata": {},
   "outputs": [
    {
     "name": "stdout",
     "output_type": "stream",
     "text": [
      " Pandas version  1.4.2 (need at lease 0.23.0)\n"
     ]
    }
   ],
   "source": [
    "#py -m pip install pandas\n",
    "import pandas as pd\n",
    "print(\" Pandas version %6.6s (need at lease 0.23.0)\" % pd.__version__)"
   ]
  },
  {
   "cell_type": "code",
   "execution_count": 35,
   "id": "e8cebbd1-4acf-4706-a072-eb6e72b630c9",
   "metadata": {},
   "outputs": [
    {
     "name": "stdout",
     "output_type": "stream",
     "text": [
      " Matplotlib version  3.5.2 (need at lease 1.2.1)\n"
     ]
    }
   ],
   "source": [
    "#py -m pip install matplotlib\n",
    "import matplotlib\n",
    "print(\" Matplotlib version %6.6s (need at lease 1.2.1)\" % matplotlib.__version__)"
   ]
  },
  {
   "cell_type": "code",
   "execution_count": null,
   "id": "5449894b-91b9-4b6c-ad47-a0e8f23b4fc0",
   "metadata": {},
   "outputs": [],
   "source": []
  }
 ],
 "metadata": {
  "kernelspec": {
   "display_name": "Python 3 (ipykernel)",
   "language": "python",
   "name": "python3"
  },
  "language_info": {
   "codemirror_mode": {
    "name": "ipython",
    "version": 3
   },
   "file_extension": ".py",
   "mimetype": "text/x-python",
   "name": "python",
   "nbconvert_exporter": "python",
   "pygments_lexer": "ipython3",
   "version": "3.10.4"
  }
 },
 "nbformat": 4,
 "nbformat_minor": 5
}
